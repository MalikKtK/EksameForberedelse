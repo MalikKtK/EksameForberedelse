{
 "cells": [
  {
   "cell_type": "markdown",
   "metadata": {},
   "source": [
    "## Problem Beskrivelse\n",
    "\n",
    "I dette projekt er vores mål at **udvikle en maskinlæringsmodel**, der kan forudsige huspriser baseret på forskellige karakteristika som områdets gennemsnitsindkomst, husets alder, antallet af værelser, og befolkningstætheden. Dette er vigtigt for ejendomsmæglere, købere, sælgere og investorer, da det giver dem mulighed for at træffe **velinformerede beslutninger** baseret på ejendomsvurderinger og investeringer. Ved at opnå en model med lav forudsigelsesfejl, kan vi forbedre tilliden til dens anvendelse i reelle vurderinger af husværdier, hvilket gør dette til et spørgsmål af både **praktisk og akademisk betydning**.\n",
    "\n",
    "## Datasæt Kilde og Detaljer\n",
    "\n",
    "Datasættet, som vi bruger i dette projekt, er hentet fra Kaggle og kan findes under følgende link: [Kaggle: House Price Prediction Dataset](https://www.kaggle.com/datasets/marjuk/house-price-prediction-dataset-csv/data). Datasættet indeholder en række **vigtige træk**, der er relevante for boligmarkedet. Disse omfatter gennemsnitsindkomsten i området, husets alder, antallet af værelser, befolkningstætheden og mange andre faktorer. Disse træk bruges som input til at **træne vores maskinlæringsmodel**, med det mål at forudsige huspriser med høj nøjagtighed. Forståelse af disse data og deres indflydelse på huspriser er **afgørende** for udviklingen af en effektiv og pålidelig model.\n"
   ]
  },
  {
   "cell_type": "code",
   "execution_count": 1,
   "metadata": {},
   "outputs": [],
   "source": [
    "import pandas as pd\n",
    "from sklearn.model_selection import train_test_split\n",
    "from sklearn.linear_model import LinearRegression\n",
    "from sklearn.metrics import mean_squared_error, mean_absolute_error\n",
    "from sklearn.impute import SimpleImputer\n",
    "from sklearn.preprocessing import StandardScaler, MinMaxScaler\n",
    "import numpy as np\n",
    "from sklearn.ensemble import RandomForestRegressor\n",
    "import matplotlib.pyplot as plt\n",
    "import seaborn as sns\n",
    "\n"
   ]
  },
  {
   "cell_type": "code",
   "execution_count": 2,
   "metadata": {},
   "outputs": [],
   "source": [
    "# Load dataset\n",
    "data = pd.read_csv('house_price_prediction.csv')"
   ]
  },
  {
   "cell_type": "code",
   "execution_count": 3,
   "metadata": {},
   "outputs": [],
   "source": [
    "# Exclude the 'address' column\n",
    "data = data.drop(['address'], axis=1)\n"
   ]
  },
  {
   "cell_type": "code",
   "execution_count": 4,
   "metadata": {},
   "outputs": [],
   "source": [
    "# Handle missing values\n",
    "imputer = SimpleImputer(strategy='mean')\n",
    "data = pd.DataFrame(imputer.fit_transform(data), columns=data.columns)"
   ]
  },
  {
   "cell_type": "code",
   "execution_count": 5,
   "metadata": {},
   "outputs": [],
   "source": [
    "# Feature Engineering\n",
    "data['rooms_per_house'] = data['avg_area_num_rooms'] / data['avg_bedrooms']"
   ]
  },
  {
   "cell_type": "code",
   "execution_count": 6,
   "metadata": {},
   "outputs": [],
   "source": [
    "# Outlier Detection and Removal\n",
    "# For simplicity, using Z-score here. Any value over 3 or below -3 is considered an outlier.\n",
    "from scipy import stats\n",
    "data = data[(np.abs(stats.zscore(data)) < 3).all(axis=1)]"
   ]
  },
  {
   "cell_type": "code",
   "execution_count": 7,
   "metadata": {},
   "outputs": [],
   "source": [
    "# Data Normalization\n",
    "scaler = MinMaxScaler()\n",
    "data_scaled = pd.DataFrame(scaler.fit_transform(data), columns=data.columns)"
   ]
  },
  {
   "cell_type": "code",
   "execution_count": 8,
   "metadata": {},
   "outputs": [],
   "source": [
    "# Calculate and print statistical measures for the 'price' column\n",
    "mean_price = data['price'].mean()\n",
    "std_price = data['price'].std()\n",
    "min_price = data['price'].min()\n",
    "max_price = data['price'].max()"
   ]
  },
  {
   "cell_type": "code",
   "execution_count": 9,
   "metadata": {},
   "outputs": [],
   "source": [
    "# Define features and target variable\n",
    "X = data.drop('price', axis=1)\n",
    "y = data['price']"
   ]
  },
  {
   "cell_type": "code",
   "execution_count": 10,
   "metadata": {},
   "outputs": [],
   "source": [
    "# Splitting the dataset into training and testing sets\n",
    "X_train, X_test, y_train, y_test = train_test_split(X, y, test_size=0.2, random_state=42)"
   ]
  },
  {
   "cell_type": "code",
   "execution_count": 11,
   "metadata": {},
   "outputs": [
    {
     "data": {
      "text/html": [
       "<style>#sk-container-id-1 {color: black;}#sk-container-id-1 pre{padding: 0;}#sk-container-id-1 div.sk-toggleable {background-color: white;}#sk-container-id-1 label.sk-toggleable__label {cursor: pointer;display: block;width: 100%;margin-bottom: 0;padding: 0.3em;box-sizing: border-box;text-align: center;}#sk-container-id-1 label.sk-toggleable__label-arrow:before {content: \"▸\";float: left;margin-right: 0.25em;color: #696969;}#sk-container-id-1 label.sk-toggleable__label-arrow:hover:before {color: black;}#sk-container-id-1 div.sk-estimator:hover label.sk-toggleable__label-arrow:before {color: black;}#sk-container-id-1 div.sk-toggleable__content {max-height: 0;max-width: 0;overflow: hidden;text-align: left;background-color: #f0f8ff;}#sk-container-id-1 div.sk-toggleable__content pre {margin: 0.2em;color: black;border-radius: 0.25em;background-color: #f0f8ff;}#sk-container-id-1 input.sk-toggleable__control:checked~div.sk-toggleable__content {max-height: 200px;max-width: 100%;overflow: auto;}#sk-container-id-1 input.sk-toggleable__control:checked~label.sk-toggleable__label-arrow:before {content: \"▾\";}#sk-container-id-1 div.sk-estimator input.sk-toggleable__control:checked~label.sk-toggleable__label {background-color: #d4ebff;}#sk-container-id-1 div.sk-label input.sk-toggleable__control:checked~label.sk-toggleable__label {background-color: #d4ebff;}#sk-container-id-1 input.sk-hidden--visually {border: 0;clip: rect(1px 1px 1px 1px);clip: rect(1px, 1px, 1px, 1px);height: 1px;margin: -1px;overflow: hidden;padding: 0;position: absolute;width: 1px;}#sk-container-id-1 div.sk-estimator {font-family: monospace;background-color: #f0f8ff;border: 1px dotted black;border-radius: 0.25em;box-sizing: border-box;margin-bottom: 0.5em;}#sk-container-id-1 div.sk-estimator:hover {background-color: #d4ebff;}#sk-container-id-1 div.sk-parallel-item::after {content: \"\";width: 100%;border-bottom: 1px solid gray;flex-grow: 1;}#sk-container-id-1 div.sk-label:hover label.sk-toggleable__label {background-color: #d4ebff;}#sk-container-id-1 div.sk-serial::before {content: \"\";position: absolute;border-left: 1px solid gray;box-sizing: border-box;top: 0;bottom: 0;left: 50%;z-index: 0;}#sk-container-id-1 div.sk-serial {display: flex;flex-direction: column;align-items: center;background-color: white;padding-right: 0.2em;padding-left: 0.2em;position: relative;}#sk-container-id-1 div.sk-item {position: relative;z-index: 1;}#sk-container-id-1 div.sk-parallel {display: flex;align-items: stretch;justify-content: center;background-color: white;position: relative;}#sk-container-id-1 div.sk-item::before, #sk-container-id-1 div.sk-parallel-item::before {content: \"\";position: absolute;border-left: 1px solid gray;box-sizing: border-box;top: 0;bottom: 0;left: 50%;z-index: -1;}#sk-container-id-1 div.sk-parallel-item {display: flex;flex-direction: column;z-index: 1;position: relative;background-color: white;}#sk-container-id-1 div.sk-parallel-item:first-child::after {align-self: flex-end;width: 50%;}#sk-container-id-1 div.sk-parallel-item:last-child::after {align-self: flex-start;width: 50%;}#sk-container-id-1 div.sk-parallel-item:only-child::after {width: 0;}#sk-container-id-1 div.sk-dashed-wrapped {border: 1px dashed gray;margin: 0 0.4em 0.5em 0.4em;box-sizing: border-box;padding-bottom: 0.4em;background-color: white;}#sk-container-id-1 div.sk-label label {font-family: monospace;font-weight: bold;display: inline-block;line-height: 1.2em;}#sk-container-id-1 div.sk-label-container {text-align: center;}#sk-container-id-1 div.sk-container {/* jupyter's `normalize.less` sets `[hidden] { display: none; }` but bootstrap.min.css set `[hidden] { display: none !important; }` so we also need the `!important` here to be able to override the default hidden behavior on the sphinx rendered scikit-learn.org. See: https://github.com/scikit-learn/scikit-learn/issues/21755 */display: inline-block !important;position: relative;}#sk-container-id-1 div.sk-text-repr-fallback {display: none;}</style><div id=\"sk-container-id-1\" class=\"sk-top-container\"><div class=\"sk-text-repr-fallback\"><pre>RandomForestRegressor(random_state=42)</pre><b>In a Jupyter environment, please rerun this cell to show the HTML representation or trust the notebook. <br />On GitHub, the HTML representation is unable to render, please try loading this page with nbviewer.org.</b></div><div class=\"sk-container\" hidden><div class=\"sk-item\"><div class=\"sk-estimator sk-toggleable\"><input class=\"sk-toggleable__control sk-hidden--visually\" id=\"sk-estimator-id-1\" type=\"checkbox\" checked><label for=\"sk-estimator-id-1\" class=\"sk-toggleable__label sk-toggleable__label-arrow\">RandomForestRegressor</label><div class=\"sk-toggleable__content\"><pre>RandomForestRegressor(random_state=42)</pre></div></div></div></div></div>"
      ],
      "text/plain": [
       "RandomForestRegressor(random_state=42)"
      ]
     },
     "execution_count": 11,
     "metadata": {},
     "output_type": "execute_result"
    }
   ],
   "source": [
    "# Initialize and train a more complex model: Random Forest Regressor\n",
    "model = RandomForestRegressor(n_estimators=100, random_state=42)\n",
    "model.fit(X_train, y_train)"
   ]
  },
  {
   "cell_type": "code",
   "execution_count": 12,
   "metadata": {},
   "outputs": [],
   "source": [
    "# Predict and evaluate\n",
    "predictions = model.predict(X_test)\n",
    "mae = mean_absolute_error(y_test, predictions)\n",
    "rmse = np.sqrt(mean_squared_error(y_test, predictions))"
   ]
  },
  {
   "cell_type": "code",
   "execution_count": 13,
   "metadata": {},
   "outputs": [
    {
     "name": "stdout",
     "output_type": "stream",
     "text": [
      "Gennemsnitlig pris (mean): 1,231,129.24\n",
      "Standardafvigelse (std): 346,031.48\n",
      "Minimum pris (min): 201,898.09\n",
      "Maksimum pris (max): 2,275,455.31\n",
      "Mean Absolute Error: 88420.02367353729\n",
      "Root Mean Squared Error: 113556.72784567559\n"
     ]
    }
   ],
   "source": [
    "print(f\"Gennemsnitlig pris (mean): {y.mean():,.2f}\")\n",
    "print(f\"Standardafvigelse (std): {y.std():,.2f}\")\n",
    "print(f\"Minimum pris (min): {y.min():,.2f}\")\n",
    "print(f\"Maksimum pris (max): {y.max():,.2f}\")\n",
    "print(\"Mean Absolute Error:\", mae)\n",
    "print(\"Root Mean Squared Error:\", rmse)"
   ]
  },
  {
   "cell_type": "code",
   "execution_count": 14,
   "id": "cf9374a3",
   "metadata": {},
   "outputs": [
    {
     "data": {
      "image/png": "[encoded data removed]",
      "text/plain": [
       "<Figure size 1000x600 with 1 Axes>"
      ]
     },
     "metadata": {},
     "output_type": "display_data"
    },
    {
     "ename": "KeyError",
     "evalue": "'avg_area_number_of_rooms'",
     "output_type": "error",
     "traceback": [
      "\u001b[1;31m---------------------------------------------------------------------------\u001b[0m",
      "\u001b[1;31mKeyError\u001b[0m                                  Traceback (most recent call last)",
      "File \u001b[1;32mc:\\Python311\\Lib\\site-packages\\pandas\\core\\indexes\\base.py:3790\u001b[0m, in \u001b[0;36mIndex.get_loc\u001b[1;34m(self, key)\u001b[0m\n\u001b[0;32m   3789\u001b[0m \u001b[39mtry\u001b[39;00m:\n\u001b[1;32m-> 3790\u001b[0m     \u001b[39mreturn\u001b[39;00m \u001b[39mself\u001b[39;49m\u001b[39m.\u001b[39;49m_engine\u001b[39m.\u001b[39;49mget_loc(casted_key)\n\u001b[0;32m   3791\u001b[0m \u001b[39mexcept\u001b[39;00m \u001b[39mKeyError\u001b[39;00m \u001b[39mas\u001b[39;00m err:\n",
      "File \u001b[1;32mindex.pyx:152\u001b[0m, in \u001b[0;36mpandas._libs.index.IndexEngine.get_loc\u001b[1;34m()\u001b[0m\n",
      "File \u001b[1;32mindex.pyx:181\u001b[0m, in \u001b[0;36mpandas._libs.index.IndexEngine.get_loc\u001b[1;34m()\u001b[0m\n",
      "File \u001b[1;32mpandas\\_libs\\hashtable_class_helper.pxi:7080\u001b[0m, in \u001b[0;36mpandas._libs.hashtable.PyObjectHashTable.get_item\u001b[1;34m()\u001b[0m\n",
      "File \u001b[1;32mpandas\\_libs\\hashtable_class_helper.pxi:7088\u001b[0m, in \u001b[0;36mpandas._libs.hashtable.PyObjectHashTable.get_item\u001b[1;34m()\u001b[0m\n",
      "\u001b[1;31mKeyError\u001b[0m: 'avg_area_number_of_rooms'",
      "\nThe above exception was the direct cause of the following exception:\n",
      "\u001b[1;31mKeyError\u001b[0m                                  Traceback (most recent call last)",
      "\u001b[1;32mc:\\Users\\kutuk\\Desktop\\EksameForberedelse\\updated_mandatory2 (1).ipynb Cell 15\u001b[0m line \u001b[0;36m1\n\u001b[0;32m      <a href='vscode-notebook-cell:/c%3A/Users/kutuk/Desktop/EksameForberedelse/updated_mandatory2%20%281%29.ipynb#X20sZmlsZQ%3D%3D?line=8'>9</a>\u001b[0m \u001b[39m# Scatter plot for price vs. area\u001b[39;00m\n\u001b[0;32m     <a href='vscode-notebook-cell:/c%3A/Users/kutuk/Desktop/EksameForberedelse/updated_mandatory2%20%281%29.ipynb#X20sZmlsZQ%3D%3D?line=9'>10</a>\u001b[0m plt\u001b[39m.\u001b[39mfigure(figsize\u001b[39m=\u001b[39m(\u001b[39m10\u001b[39m, \u001b[39m6\u001b[39m))\n\u001b[1;32m---> <a href='vscode-notebook-cell:/c%3A/Users/kutuk/Desktop/EksameForberedelse/updated_mandatory2%20%281%29.ipynb#X20sZmlsZQ%3D%3D?line=10'>11</a>\u001b[0m sns\u001b[39m.\u001b[39mscatterplot(x\u001b[39m=\u001b[39mdata[\u001b[39m'\u001b[39;49m\u001b[39mavg_area_number_of_rooms\u001b[39;49m\u001b[39m'\u001b[39;49m], y\u001b[39m=\u001b[39mdata[\u001b[39m'\u001b[39m\u001b[39mprice\u001b[39m\u001b[39m'\u001b[39m])\n\u001b[0;32m     <a href='vscode-notebook-cell:/c%3A/Users/kutuk/Desktop/EksameForberedelse/updated_mandatory2%20%281%29.ipynb#X20sZmlsZQ%3D%3D?line=11'>12</a>\u001b[0m plt\u001b[39m.\u001b[39mtitle(\u001b[39m'\u001b[39m\u001b[39mHouse Price vs. Average Area Number of Rooms\u001b[39m\u001b[39m'\u001b[39m)\n\u001b[0;32m     <a href='vscode-notebook-cell:/c%3A/Users/kutuk/Desktop/EksameForberedelse/updated_mandatory2%20%281%29.ipynb#X20sZmlsZQ%3D%3D?line=12'>13</a>\u001b[0m plt\u001b[39m.\u001b[39mxlabel(\u001b[39m'\u001b[39m\u001b[39mAverage Area Number of Rooms\u001b[39m\u001b[39m'\u001b[39m)\n",
      "File \u001b[1;32mc:\\Python311\\Lib\\site-packages\\pandas\\core\\frame.py:3896\u001b[0m, in \u001b[0;36mDataFrame.__getitem__\u001b[1;34m(self, key)\u001b[0m\n\u001b[0;32m   3894\u001b[0m \u001b[39mif\u001b[39;00m \u001b[39mself\u001b[39m\u001b[39m.\u001b[39mcolumns\u001b[39m.\u001b[39mnlevels \u001b[39m>\u001b[39m \u001b[39m1\u001b[39m:\n\u001b[0;32m   3895\u001b[0m     \u001b[39mreturn\u001b[39;00m \u001b[39mself\u001b[39m\u001b[39m.\u001b[39m_getitem_multilevel(key)\n\u001b[1;32m-> 3896\u001b[0m indexer \u001b[39m=\u001b[39m \u001b[39mself\u001b[39;49m\u001b[39m.\u001b[39;49mcolumns\u001b[39m.\u001b[39;49mget_loc(key)\n\u001b[0;32m   3897\u001b[0m \u001b[39mif\u001b[39;00m is_integer(indexer):\n\u001b[0;32m   3898\u001b[0m     indexer \u001b[39m=\u001b[39m [indexer]\n",
      "File \u001b[1;32mc:\\Python311\\Lib\\site-packages\\pandas\\core\\indexes\\base.py:3797\u001b[0m, in \u001b[0;36mIndex.get_loc\u001b[1;34m(self, key)\u001b[0m\n\u001b[0;32m   3792\u001b[0m     \u001b[39mif\u001b[39;00m \u001b[39misinstance\u001b[39m(casted_key, \u001b[39mslice\u001b[39m) \u001b[39mor\u001b[39;00m (\n\u001b[0;32m   3793\u001b[0m         \u001b[39misinstance\u001b[39m(casted_key, abc\u001b[39m.\u001b[39mIterable)\n\u001b[0;32m   3794\u001b[0m         \u001b[39mand\u001b[39;00m \u001b[39many\u001b[39m(\u001b[39misinstance\u001b[39m(x, \u001b[39mslice\u001b[39m) \u001b[39mfor\u001b[39;00m x \u001b[39min\u001b[39;00m casted_key)\n\u001b[0;32m   3795\u001b[0m     ):\n\u001b[0;32m   3796\u001b[0m         \u001b[39mraise\u001b[39;00m InvalidIndexError(key)\n\u001b[1;32m-> 3797\u001b[0m     \u001b[39mraise\u001b[39;00m \u001b[39mKeyError\u001b[39;00m(key) \u001b[39mfrom\u001b[39;00m \u001b[39merr\u001b[39;00m\n\u001b[0;32m   3798\u001b[0m \u001b[39mexcept\u001b[39;00m \u001b[39mTypeError\u001b[39;00m:\n\u001b[0;32m   3799\u001b[0m     \u001b[39m# If we have a listlike key, _check_indexing_error will raise\u001b[39;00m\n\u001b[0;32m   3800\u001b[0m     \u001b[39m#  InvalidIndexError. Otherwise we fall through and re-raise\u001b[39;00m\n\u001b[0;32m   3801\u001b[0m     \u001b[39m#  the TypeError.\u001b[39;00m\n\u001b[0;32m   3802\u001b[0m     \u001b[39mself\u001b[39m\u001b[39m.\u001b[39m_check_indexing_error(key)\n",
      "\u001b[1;31mKeyError\u001b[0m: 'avg_area_number_of_rooms'"
     ]
    },
    {
     "data": {
      "text/plain": [
       "<Figure size 1000x600 with 0 Axes>"
      ]
     },
     "metadata": {},
     "output_type": "display_data"
    }
   ],
   "source": [
    "\n",
    "# Histogram for house prices\n",
    "plt.figure(figsize=(10, 6))\n",
    "sns.histplot(data['price'], kde=True)\n",
    "plt.title('Distribution of House Prices')\n",
    "plt.xlabel('Price')\n",
    "plt.ylabel('Frequency')\n",
    "plt.show()\n",
    "\n",
    "# Scatter plot for price vs. area\n",
    "plt.figure(figsize=(10, 6))\n",
    "sns.scatterplot(x=data['avg_area_number_of_rooms'], y=data['price'])\n",
    "plt.title('House Price vs. Average Area Number of Rooms')\n",
    "plt.xlabel('Average Area Number of Rooms')\n",
    "plt.ylabel('Price')\n",
    "plt.show()\n",
    "\n",
    "# Box plot for price by age of house\n",
    "plt.figure(figsize=(10, 6))\n",
    "sns.boxplot(x=data['age_of_house'], y=data['price'])\n",
    "plt.title('House Price by Age of House')\n",
    "plt.xlabel('Age of House')\n",
    "plt.ylabel('Price')\n",
    "plt.show()\n"
   ]
  },
  {
   "cell_type": "markdown",
   "metadata": {},
   "source": [
    "### Statistik Over Huspriser\n",
    "\n",
    "**Gennemsnitlig pris (mean): 1.231.129,24**  \n",
    "Dette repræsenterer den gennemsnitlige pris for et hus i datasættet.\n",
    "\n",
    "**Standardafvigelse (std): 346.031,48**  \n",
    "Dette tal indikerer spredningen af huspriserne omkring den gennemsnitlige værdi, hvilket reflekterer variationen i priserne.\n",
    "\n",
    "**Minimum pris (min): 201.898,09**  \n",
    "Dette er den laveste pris for et hus i datasættet.\n",
    "\n",
    "**Maksimum pris (max): 2.275.455,31**  \n",
    "Dette er den højeste pris for et hus i datasættet."
   ]
  },
  {
   "cell_type": "code",
   "execution_count": null,
   "id": "1959c55d",
   "metadata": {},
   "outputs": [],
   "source": [
    "\n",
    "from sklearn.model_selection import GridSearchCV\n",
    "\n",
    "# Hyperparameter tuning for Random Forest Regressor\n",
    "param_grid = {\n",
    "    'n_estimators': [100, 200, 300],\n",
    "    'max_features': ['auto', 'sqrt', 'log2'],\n",
    "    'max_depth': [4, 5, 6, 7, 8],\n",
    "    'criterion': ['mse', 'mae']\n",
    "}\n",
    "\n",
    "CV_rfr = GridSearchCV(estimator=model, param_grid=param_grid, cv=5)\n",
    "CV_rfr.fit(X_train, y_train)\n",
    "print(\"Best Parameters:\", CV_rfr.best_params_)\n"
   ]
  },
  {
   "cell_type": "markdown",
   "metadata": {},
   "source": [
    "### Model Evaluering\n",
    "\n",
    "**Gennemsnitlig Absolut Fejl (Mean Absolute Error, MAE): 88.420,02**  \n",
    "Dette tal indikerer, hvor meget modellens forudsigelser i gennemsnit afviger fra de faktiske huspriser. I gennemsnit er hver prisforudsigelse fra modellen omkring 88.420,02 enheder væk fra den faktiske pris.\n",
    "\n",
    "**Rodmiddelkvadratfejl (Root Mean Squared Error, RMSE): 113.556,73** \n",
    "Dette tal giver et mål for størrelsen af fejlene i modellens forudsigelser. RMSE giver mere vægt til større fejl, så store afvigelser i forudsigelserne vil øge RMSE betydeligt. En RMSE på 113.556,73 indikerer, at fejlene i modellens forudsigelser i gennemsnit ligger i denne størrelsesorden.\n"
   ]
  },
  {
   "cell_type": "code",
   "execution_count": null,
   "id": "30841214",
   "metadata": {},
   "outputs": [],
   "source": [
    "\n",
    "from sklearn.metrics import r2_score\n",
    "from sklearn.model_selection import cross_val_score\n",
    "\n",
    "# R² score\n",
    "r2 = r2_score(y_test, predictions)\n",
    "print(\"R² (Coefficient of Determination):\", r2)\n",
    "\n",
    "# Cross-validation\n",
    "cv_scores = cross_val_score(model, X, y, cv=5)\n",
    "print(\"Cross-validated scores:\", cv_scores)\n"
   ]
  },
  {
   "cell_type": "markdown",
   "id": "13687ae7",
   "metadata": {},
   "source": [
    "\n",
    "## Mere Dybdegående Dataanalyse\n",
    "\n",
    "For at forstå vores datasæt bedre og forbedre kvaliteten af vores forudsigelser, vil vi udføre en **eksplorativ dataanalyse (EDA)**. Denne analyse vil inkludere visualiseringer for at undersøge fordelingen af data og relationerne mellem forskellige træk. Visualiseringerne kan omfatte histogrammer, scatter plots og boxplots for at identificere mønstre, tendenser og eventuelle anomalier i dataene.\n",
    "\n",
    "Endvidere vil vi udføre **mere detaljeret feature engineering** for at identificere og konstruere de mest relevante træk, der kan forbedre vores models præcision. Dette kan inkludere oprettelse af nye træk ud fra eksisterende data eller transformation af træk for bedre at afspejle deres relation til huspriserne.\n",
    "\n",
    "## Model Træning\n",
    "\n",
    "Vi vil eksperimentere med forskellige modeller for at sammenligne deres præstationer. Udover vores nuværende Random Forest Regressor, kan vi overveje at anvende en **Deep Neural Network** eller en anden regressionsmodel. Dette vil give os en bedre forståelse af, hvilken modeltype der er mest effektiv til vores specifikke datasæt.\n",
    "\n",
    "Desuden vil vi udføre **hyperparameter tuning** for at optimere ydeevnen af vores modeller. Dette kan omfatte justering af parametre som antal træer i en Random Forest-model eller lagparametre i en dyb neuralt netværk.\n",
    "\n",
    "## Udvidet Model Evaluering\n",
    "\n",
    "For at få en mere omfattende vurdering af vores models præstationer vil vi inkludere yderligere metrikker som **R² (bestemmelseskoefficient)**, der beskriver, hvor meget af variansen i huspriserne der forklares af modellen. En høj R²-værdi indikerer, at modellen forklarer en stor del af variansen i dataene.\n",
    "\n",
    "Derudover vil vi anvende **krydsvalidering** for at sikre, at vores model præsterer konsekvent på tværs af forskellige datasæt. Dette vil hjælpe os med at vurdere modellens robusthed og pålidelighed i forskellige scenarier."
   ]
  }
 ],
 "metadata": {
  "kernelspec": {
   "display_name": "Python 3",
   "language": "python",
   "name": "python3"
  },
  "language_info": {
   "codemirror_mode": {
    "name": "ipython",
    "version": 3
   },
   "file_extension": ".py",
   "mimetype": "text/x-python",
   "name": "python",
   "nbconvert_exporter": "python",
   "pygments_lexer": "ipython3",
   "version": "3.11.0"
  }
 },
 "nbformat": 4,
 "nbformat_minor": 2
}
